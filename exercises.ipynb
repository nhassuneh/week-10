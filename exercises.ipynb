{
 "cells": [
  {
   "cell_type": "markdown",
   "id": "e3aad6c5",
   "metadata": {},
   "source": [
    "<font color='darkred'>Unless otherwise noted, **this notebook will not be reviewed or autograded.**</font> You are welcome to use it for scratchwork, but **only the files listed in the exercises will be checked.**\n",
    "\n",
    "---\n",
    "\n",
    "# Exercises\n",
    "\n",
    "For these exercises, you'll need to update the *apputil\\.py* file and the *app\\.py* file."
   ]
  },
  {
   "cell_type": "markdown",
   "id": "a31fe569",
   "metadata": {},
   "source": [
    "## Exercise 1\n",
    "\n",
    "Recall the [simple streamlit app](https://github.com/leontoddjohnson/simple_streamlit) and the [coffee analysis data](https://raw.githubusercontent.com/leontoddjohnson/datasets/refs/heads/main/data/coffee_analysis.csv) used.\n",
    "\n",
    "Write a Python script called `train.py` that does the following:\n",
    "\n",
    "- Loads the [coffee analysis data](https://raw.githubusercontent.com/leontoddjohnson/datasets/refs/heads/main/data/coffee_analysis.csv) (from the URL).\n",
    "- Trains a (Scikit-Learn) linear regression model to predict `rating` based on the single feature `100g_USD`.\n",
    "- Saves the trained model in this repository as a pickle file called `model_1.pickle`.\n",
    "\n",
    "## Exercise 2\n",
    "\n",
    "Update the script to train a **Decision Tree Regressor** model that predicts `rating` based on *both* `100g_USD` and `roast`, and saves the trained model as `model_2.pickle`. Notice that the `roast` column is categorical, so you'll need to convert it into a numerical label format:\n",
    "\n",
    "- Create a dictionary that maps roast categories to a number (e.g., `roast_cat['Medium-Light'] = 1`).\n",
    "- Use `.map` or `.apply` (in pandas) to create a numerical column that allows you to train your model on *all* rows.\n",
    "\n",
    "*Note: Do not worry about model performance here.*\n",
    "\n",
    "## (Optional) \n",
    "\n",
    "### Bonus Exercise 3\n",
    "\n",
    "Update the *apputil\\.py* file to include a `predict_rating(df_X)` function that takes in a two-column dataframe, `df_X`, with columns `100g_USD` (numerical) and `roast` (in original text form), and returns an array containing corresponding predicted `rating` values. If a `roast` value is not one of the roast values in the training data, the function should only use the `100g_USD` value to make the prediction (recall `model_1.pickle`). Otherwise, it should use both features."
   ]
  },
  {
   "cell_type": "code",
   "execution_count": 5,
   "id": "93c114a2",
   "metadata": {},
   "outputs": [
    {
     "name": "stdout",
     "output_type": "stream",
     "text": [
      "Unique roast values: ['Medium-Light' 'Medium' 'Light' 'Medium-Dark' nan 'Dark']\n"
     ]
    }
   ],
   "source": [
    "import pandas as pd\n",
    "url = \"https://raw.githubusercontent.com/leontoddjohnson/datasets/refs/heads/main/data/coffee_analysis.csv\"\n",
    "df = pd.read_csv(url)\n",
    "\n",
    "unique_roasts = df['roast'].unique()\n",
    "print(\"Unique roast values:\", unique_roasts)\n"
   ]
  },
  {
   "cell_type": "code",
   "execution_count": null,
   "id": "a6db8908",
   "metadata": {},
   "outputs": [],
   "source": [
    "import pandas as pd\n",
    "from apputil import predict_rating\n",
    "\n",
    "df_X = pd.DataFrame([\n",
    "    [10.00, \"Dark\"],\n",
    "    [15.00, \"Very Light\"]], \n",
    "    columns=[\"100g_USD\", \"roast\"])\n",
    "y_pred = predict_rating(df_X)\n",
    "y_pred"
   ]
  },
  {
   "cell_type": "markdown",
   "id": "71e25da7",
   "metadata": {},
   "source": [
    "### Bonus Exercise 4\n",
    "\n",
    "Vectorize the `desc_3` column in the coffee analysis data using TF-IDF vectorization. Train a linear regression model to predict `rating` based only on the vectorized text data, and save the trained model as `model_3.pickle`.\n",
    "\n",
    "Adjust your `predict_rating(X, text=True)` function where the `text` argument indicates that `X` is an array of strings of text (in the style of the reviews in `desc_3`). Update the function so that when `text=True`, it returns predicted ratings based on the text.\n",
    "\n",
    "Note: you'll need to figure out what to do when the input text contains words that were not in the training data!"
   ]
  },
  {
   "cell_type": "code",
   "execution_count": null,
   "id": "04b35922",
   "metadata": {},
   "outputs": [],
   "source": [
    "X = pd.DataFrame([\n",
    "    \"A delightfull coffee with hints of chocolate and caramel.\",\n",
    "    \"A strong coffee with a bold flavor and a smoky finish.\"], \n",
    "    columns=[\"text\"])\n",
    "y = predict_rating(X, text=True)\n",
    "y"
   ]
  }
 ],
 "metadata": {
  "kernelspec": {
   "display_name": "base",
   "language": "python",
   "name": "python3"
  },
  "language_info": {
   "codemirror_mode": {
    "name": "ipython",
    "version": 3
   },
   "file_extension": ".py",
   "mimetype": "text/x-python",
   "name": "python",
   "nbconvert_exporter": "python",
   "pygments_lexer": "ipython3",
   "version": "3.13.5"
  }
 },
 "nbformat": 4,
 "nbformat_minor": 5
}
